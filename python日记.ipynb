{
 "cells": [
  {
   "cell_type": "markdown",
   "metadata": {},
   "source": [
    "# 主要内容\n",
    "- 坚持写Blog\n",
    "- jupyter notebook的用法\n",
    "- 变量\n",
    "- 跟vi/vim编辑模式很像"
   ]
  },
  {
   "cell_type": "code",
   "execution_count": 16,
   "metadata": {},
   "outputs": [],
   "source": [
    "# 声明的三种格式\n",
    "# 格式1\n",
    "s1 = \"我爱王晓静\"\n",
    "\n",
    "\n",
    "#格式2\n",
    "s2 = s1 = \"i love wangxiaojing\"\n",
    "\n",
    "\n",
    "#格式3\n",
    "s1, s2, s3 = \"i love wangxiaojing\",\"哈哈哈\", 123\n"
   ]
  },
  {
   "cell_type": "code",
   "execution_count": 7,
   "metadata": {},
   "outputs": [
    {
     "name": "stdout",
     "output_type": "stream",
     "text": [
      "6\n",
      "1022\n"
     ]
    }
   ],
   "source": [
    "#二进制的定义\n",
    "a1 = 0b110\n",
    "print(a1)\n",
    "\n",
    "\n",
    "a2 = 0b1111111110\n",
    "print(a2)"
   ]
  },
  {
   "cell_type": "code",
   "execution_count": 11,
   "metadata": {},
   "outputs": [
    {
     "name": "stdout",
     "output_type": "stream",
     "text": [
      "57\n",
      "53\n"
     ]
    }
   ],
   "source": [
    "#八进制的定义\n",
    "a3 = 0o71\n",
    "print(a3)\n",
    "\n",
    "\n",
    "a4 = 0o65\n",
    "print(a4)"
   ]
  },
  {
   "cell_type": "code",
   "execution_count": 18,
   "metadata": {},
   "outputs": [
    {
     "name": "stdout",
     "output_type": "stream",
     "text": [
      "355036\n",
      "12090099451937\n"
     ]
    }
   ],
   "source": [
    "#十六进制的定义\n",
    "a5 = 0x56adc\n",
    "print(a5)\n",
    "\n",
    "\n",
    "a6 = 0xafef2154821\n",
    "print(a6)"
   ]
  },
  {
   "cell_type": "markdown",
   "metadata": {},
   "source": [
    "#二进制的取值范围\n",
    "  以0b开头，0到1之间的串\n",
    "  例如：0b110\n",
    "  0b11110\n",
    "  \n",
    "  \n",
    "#八进制的取值范围\n",
    "  以0o开头，0到7之间的数字串\n",
    "  例如：0o45\n",
    "  0o5454547\n",
    "  \n",
    "  \n",
    "#十六进制的取值范围\n",
    "  以0x开头，0到9之间的数字串，a到f的串\n",
    "  例如：0xffff\n",
    "      0x545d1a2d5\n",
    "  "
   ]
  },
  {
   "cell_type": "markdown",
   "metadata": {},
   "source": [
    "# 字符串\n",
    "- 表达文字信息内容，比如“我爱你中国”\n",
    "- 形式上是引号引起来的一段内容\n",
    "- 引号包括\n",
    "  - 单引号\n",
    "  - 双引号\n",
    "  - 三引号，可以用来表示多行信息\n",
    "- 单双引号含义一致"
   ]
  },
  {
   "cell_type": "code",
   "execution_count": 11,
   "metadata": {},
   "outputs": [
    {
     "name": "stdout",
     "output_type": "stream",
     "text": [
      "wo ai ni zhongguo\n",
      "wo ai ni zhongguo\n",
      "\n",
      " 你是我的小星星\n",
      " 你在我的心里啊\n",
      " 在我的心底啊\n",
      " 无论是多远的远方\n",
      "\n"
     ]
    }
   ],
   "source": [
    "# 字符串案例\n",
    "#双引号案例\n",
    "love = \"wo ai ni zhongguo\"\n",
    "print(love)\n",
    "\n",
    "#单引号案例\n",
    "love1 = 'wo ai ni zhongguo'\n",
    "print(love1)\n",
    "\n",
    "#三引号案例\n",
    "love3 = \"\"\"\n",
    " 你是我的小星星\n",
    " 你在我的心里啊\n",
    " 在我的心底啊\n",
    " 无论是多远的远方\n",
    "\"\"\"\n",
    "print(love3)\n"
   ]
  },
  {
   "cell_type": "markdown",
   "metadata": {},
   "source": [
    "# NOne类型\n",
    "- 表示什么都没有\n",
    "- 比较常见的返回。表示返回一个空"
   ]
  },
  {
   "cell_type": "markdown",
   "metadata": {},
   "source": [
    "# 表达式\n",
    "- 由一个或者几个数字或者变量或者运算符个合成第一行代码\n",
    "- 通常返回一个结果\n",
    "\n",
    "# 运算符\n",
    "- 由一个以上的值经过一系列运算得到新值得过程就叫运算\n",
    "- 用来操作运算的符号叫运算符\n",
    "- 运算符分类\n",
    "  - 算数运算符\n",
    "  - 比较或者关系运算符\n",
    "  - 赋值运算符\n",
    "  - 逻辑运算符\n",
    "  - 位运算\n",
    "  - 成员运算符\n",
    "  - 身份运算符"
   ]
  },
  {
   "cell_type": "markdown",
   "metadata": {},
   "source": [
    "## 算数运算符\n",
    "- 用来进行算数运算的符号\n",
    "- 通常用来表示和加减乘\n",
    "- python没有自加自减运算符"
   ]
  },
  {
   "cell_type": "code",
   "execution_count": 1,
   "metadata": {},
   "outputs": [
    {
     "name": "stdout",
     "output_type": "stream",
     "text": [
      "37\n",
      "1.8\n",
      "2\n",
      "-3\n",
      "1\n",
      "-20\n",
      "-10\n",
      "49\n"
     ]
    }
   ],
   "source": [
    "#算数运算符\n",
    "a = 93 - 56\n",
    "print(a)\n",
    "\n",
    "#加减乘的运算和数学运算一致\n",
    "\n",
    "\n",
    "\n",
    "# python除法分为普通除法，地板除，取余\n",
    "\n",
    "\n",
    "# 常见的除法\n",
    "# 此操作经常在python2.x，3.x中有些不同\n",
    "a = 9 / 5\n",
    "print(a)\n",
    "\n",
    "\n",
    "#地板除\n",
    "\n",
    "a1 = 9 // 4#地板除取整\n",
    "print(a1)\n",
    "\n",
    "\n",
    "# 常以负数的结果\n",
    "a3 = 9 % -4\n",
    "print(a3)\n",
    "\n",
    "\n",
    "a4 = 9 % 4\n",
    "print(a4)\n",
    "# 取余 除以正数结果为 （9-x）% 4 = 0 x的取值范围就是取余的结果，取值范围（0.4）\n",
    "# 取余 除以负数结果为（9-x）x的为负数 % -4 = 0 x的取值范围就是取余的结果，取值范围（0.-4）\n",
    "#除以负数就是要让结果整除，取余为0，那么这个取值就是正确的\n",
    "a5 = 100 % -30\n",
    "print(a5)\n",
    "\n",
    "a6 = 98 % -27\n",
    "print(a6)\n",
    "\n",
    "# 两个乘号是指数\n",
    "a = 7 ** 2\n",
    "print(a)"
   ]
  },
  {
   "cell_type": "markdown",
   "metadata": {},
   "source": [
    "# 比较运算符\n",
    "- 对两个内容进行比较的运算符\n",
    "- 结果一定是布尔值，即 True/False\n",
    "- >, >=, <, <=\n"
   ]
  },
  {
   "cell_type": "code",
   "execution_count": 4,
   "metadata": {},
   "outputs": [
    {
     "name": "stdout",
     "output_type": "stream",
     "text": [
      "False\n",
      "True\n",
      "False\n"
     ]
    }
   ],
   "source": [
    "# 等于 ==\n",
    "a = 3 == 4\n",
    "print(a)\n",
    "\n",
    "#不等于 !=\n",
    "a = 3 != 4\n",
    "print(a)\n",
    "\n",
    "#其他的符号\n",
    "# > >= < <=\n",
    "print(3 >= 8)"
   ]
  },
  {
   "cell_type": "markdown",
   "metadata": {},
   "source": [
    "# 赋值运算符\n",
    "- 把一个值放到变量里边去"
   ]
  },
  {
   "cell_type": "code",
   "execution_count": 7,
   "metadata": {},
   "outputs": [
    {
     "name": "stdout",
     "output_type": "stream",
     "text": [
      "103\n",
      "106\n"
     ]
    }
   ],
   "source": [
    "# 赋值符号 =\n",
    "a = 9\n",
    " \n",
    "# 复杂赋值\n",
    "a = b = 9\n",
    "a,b = 1, 2\n",
    "\n",
    "#赋值缩写\n",
    "cc = 100\n",
    "cc = cc + 3\n",
    "print(cc)\n",
    "\n",
    "# 注意下面符号仅仅是一个缩写\n",
    "cc += 3 # cc = cc + 3\n",
    "print(cc)\n",
    "\n",
    "## 所有玉运算符都可以缩写\n",
    "# -=， *= ，/= ，//=，%=，**=，都是缩写\n",
    "#python里面是没有自加 ++， 自减 -- 的"
   ]
  },
  {
   "cell_type": "markdown",
   "metadata": {},
   "source": [
    "# 逻辑运算符\n",
    "- 对布尔值型变量或者值进行运算的符号\n",
    "- and： 逻辑与\n",
    "- or ： 逻辑或\n",
    "- not： 逻辑非\n",
    "- python里面的逻辑运算没有异或\n",
    "- 运算规则：\n",
    "   - and看做乘法，or看作加法\n",
    "   - True看作1， =Flase看作0\n",
    "   - 则逻辑运算就能转换成整数数学运算\n",
    "   - 最后结果如果是0则为Flase，否则为Ture\n",
    "- 逻辑运算符的短路问题\n",
    "   - 逻辑运算式，按照运算顺序计算，一旦能够确定整个式子未来的值，则不再进行计算，直接返回"
   ]
  },
  {
   "cell_type": "code",
   "execution_count": 11,
   "metadata": {},
   "outputs": [
    {
     "name": "stdout",
     "output_type": "stream",
     "text": [
      "True\n",
      "False\n",
      "False\n"
     ]
    }
   ],
   "source": [
    "# 逻辑表达举例\n",
    "a = True\n",
    "b = True\n",
    "c = False\n",
    "\n",
    "aa = a and b #左边表达式可以转换成1*1\n",
    "print(aa)\n",
    "\n",
    "\n",
    "bb = a and c\n",
    "print(bb)\n",
    "\n",
    "\n",
    "cc = 100 and c\n",
    "print(cc)\n",
    "\n",
    "#布尔值跟数字的转换\n",
    "# 数字转换布尔值的时候，0 = false 其余是true\n",
    "# 布尔值转换成数字的时候：True=1， False=0 "
   ]
  },
  {
   "cell_type": "code",
   "execution_count": 12,
   "metadata": {},
   "outputs": [
    {
     "name": "stdout",
     "output_type": "stream",
     "text": [
      "True\n"
     ]
    }
   ],
   "source": [
    "# 短路问题案例\n",
    "a = True\n",
    "b = True\n",
    "c = False\n",
    "\n",
    "aa = a or b (a and b ) #转换成算数1+ ..............\n",
    "print(aa)"
   ]
  },
  {
   "cell_type": "code",
   "execution_count": 9,
   "metadata": {},
   "outputs": [
    {
     "name": "stdout",
     "output_type": "stream",
     "text": [
      "a\n",
      "b\n",
      "True\n",
      "********************\n",
      "a\n",
      "True\n"
     ]
    }
   ],
   "source": [
    "#短路问题案例2\n",
    "def a():\n",
    "    print('a')\n",
    "    return True\n",
    "\n",
    "def b():\n",
    "    print('b')\n",
    "    return True\n",
    "\n",
    "aaa = a() and b()\n",
    "print(aaa)\n",
    "\n",
    "#这个字符串乘以数字，表示对这个字符串重复多少遍\n",
    "print(\"*\" * 20)\n",
    "\n",
    "\n",
    "bbb = a() or b()#短路发生\n",
    "print(bbb)"
   ]
  },
  {
   "cell_type": "markdown",
   "metadata": {},
   "source": [
    "# 成员运算符\n",
    "- 用来检测一个值或者变量是否在某个集合里\n",
    "- in ：成员运算符\n",
    "- not in ：不在里边的意思"
   ]
  },
  {
   "cell_type": "code",
   "execution_count": 11,
   "metadata": {},
   "outputs": [
    {
     "name": "stdout",
     "output_type": "stream",
     "text": [
      "False\n",
      "True\n"
     ]
    }
   ],
   "source": [
    "# in 案例\n",
    "\n",
    "L = {1,2,3,4,5}\n",
    "a = 6\n",
    "aa = a in L\n",
    "print(aa)\n",
    "\n",
    "\n",
    "# not in 案例\n",
    "\n",
    "P = {1,2,3,4,5,6}\n",
    "o = 10\n",
    "oo = o not in P\n",
    "print(oo)"
   ]
  },
  {
   "cell_type": "markdown",
   "metadata": {},
   "source": [
    "# 身份运算符\n",
    "- 用来确定两个变量是否同一变量\n",
    "- is： 变量运算符\n",
    "- is not： 不是\n",
    "- 学习python的应该了解，对整数N/in{-5,256},解释器对他们做了单独的处理，放进了固定的内存中，不因你每次运行而变化"
   ]
  },
  {
   "cell_type": "code",
   "execution_count": 17,
   "metadata": {},
   "outputs": [
    {
     "name": "stdout",
     "output_type": "stream",
     "text": [
      "False\n",
      "False\n",
      "True\n"
     ]
    }
   ],
   "source": [
    "#身份运算案例\n",
    "a = 1\n",
    "b = 99\n",
    "aa = a is b\n",
    "print(aa)\n",
    "\n",
    "\n",
    "#正确理解上面与下面案例的不同\n",
    "# a ,b 仅仅是值一样，并不代表a ，b是一个变量\n",
    "a = 257\n",
    "b = 257\n",
    "aa = a is b\n",
    "print(aa)\n",
    "\n",
    "\n",
    "a = 9\n",
    "b = 9\n",
    "aa = a is b\n",
    "print(aa)\n",
    "\n"
   ]
  },
  {
   "cell_type": "markdown",
   "metadata": {},
   "source": [
    "# 运算符优先级问题\n",
    "- 小括号有最高优先级\n",
    "\n",
    "   小括号\t()\t20\n",
    "   索引运算符\tx[index] 或 x[index:index2[:index3]]\t18、19\n",
    "   属性访问\tx.attrbute \t17\n",
    "   乘方\t**\t16\n",
    "   按位取反\t~\t15\n",
    "   符号运算符\t+（正号）或 -（负号）\t14\n",
    "   乘、除\t*、/、//、%\t13\n",
    "   加、减\t+、-\t12 \n",
    "   位移\t>>、<<\t11\n",
    "   按位与\t&\t10\n",
    "   按位异或\t^\t9\n",
    "   按位或\t|\t8\n",
    "   比较运算符\t==、!=、>、>=、<、<= \t7\n",
    "   is 运算符\tis、is not\t6\n",
    "   in 运算符\tin、not in\t5\n",
    "   逻辑非\tnot\t4\n",
    "   逻辑与\tand\t3\n",
    "   逻辑或\tor\n"
   ]
  }
 ],
 "metadata": {
  "kernelspec": {
   "display_name": "Python 3",
   "language": "python",
   "name": "python3"
  },
  "language_info": {
   "codemirror_mode": {
    "name": "ipython",
    "version": 3
   },
   "file_extension": ".py",
   "mimetype": "text/x-python",
   "name": "python",
   "nbconvert_exporter": "python",
   "pygments_lexer": "ipython3",
   "version": "3.7.0"
  }
 },
 "nbformat": 4,
 "nbformat_minor": 2
}
